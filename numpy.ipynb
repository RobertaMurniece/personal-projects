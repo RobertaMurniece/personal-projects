{
 "cells": [
  {
   "cell_type": "code",
   "execution_count": 2,
   "metadata": {},
   "outputs": [],
   "source": [
    "import numpy as np"
   ]
  },
  {
   "cell_type": "code",
   "execution_count": 3,
   "metadata": {},
   "outputs": [
    {
     "data": {
      "text/plain": [
       "'1.20.3'"
      ]
     },
     "execution_count": 3,
     "metadata": {},
     "output_type": "execute_result"
    }
   ],
   "source": [
    "np.__version__"
   ]
  },
  {
   "cell_type": "code",
   "execution_count": 4,
   "metadata": {},
   "outputs": [],
   "source": [
    "#python is dynamically typed language\n",
    "x = 3\n",
    "x = \"three\""
   ]
  },
  {
   "cell_type": "code",
   "execution_count": 5,
   "metadata": {},
   "outputs": [
    {
     "name": "stdout",
     "output_type": "stream",
     "text": [
      "three\n"
     ]
    }
   ],
   "source": [
    "print(x)"
   ]
  },
  {
   "cell_type": "code",
   "execution_count": 6,
   "metadata": {},
   "outputs": [
    {
     "data": {
      "text/plain": [
       "[bool, str, int, float]"
      ]
     },
     "execution_count": 6,
     "metadata": {},
     "output_type": "execute_result"
    }
   ],
   "source": [
    "#heterogeneous lists in Python\n",
    "L = [True, '2', 1, 4.3]\n",
    "[type(item) for item in L] #each item is a complete python object, with type info, reference count"
   ]
  },
  {
   "cell_type": "code",
   "execution_count": 7,
   "metadata": {},
   "outputs": [
    {
     "data": {
      "text/plain": [
       "array([[1, 2, 3],\n",
       "       [3, 4, 5],\n",
       "       [5, 6, 7]])"
      ]
     },
     "execution_count": 7,
     "metadata": {},
     "output_type": "execute_result"
    }
   ],
   "source": [
    "# Numpy array - fixed type lists (more efficient in storing and manipulating lists, continuous block of data)\n",
    "\n",
    "array = np.array([1,3,5,7], dtype='int')\n",
    "array_nested = np.array([range(i, i+3) for i in [1,3,5]])\n",
    "array_nested"
   ]
  },
  {
   "cell_type": "code",
   "execution_count": 11,
   "metadata": {},
   "outputs": [
    {
     "data": {
      "text/plain": [
       "array([[1., 0., 0., 0.],\n",
       "       [0., 1., 0., 0.],\n",
       "       [0., 0., 1., 0.],\n",
       "       [0., 0., 0., 1.]])"
      ]
     },
     "execution_count": 11,
     "metadata": {},
     "output_type": "execute_result"
    }
   ],
   "source": [
    "#creating specific arrays\n",
    "np.zeros\n",
    "np.ones((3,2))\n",
    "np.random.random((3,3))\n",
    "np.eye(4) # identity matrix\n"
   ]
  },
  {
   "cell_type": "markdown",
   "metadata": {},
   "source": [
    "NumPy Array Attributes"
   ]
  },
  {
   "cell_type": "code",
   "execution_count": 46,
   "metadata": {},
   "outputs": [
    {
     "name": "stdout",
     "output_type": "stream",
     "text": [
      "Data type of the array is int32\n"
     ]
    },
    {
     "data": {
      "text/plain": [
       "array([1, 4, 6, 2, 9])"
      ]
     },
     "execution_count": 46,
     "metadata": {},
     "output_type": "execute_result"
    }
   ],
   "source": [
    "np.random.seed(5)\n",
    "x3 = np.random.randint(10, size=(3,3,5)) #three dimentional array\n",
    "\n",
    "print('Data type of the array is',x3.dtype)\n",
    "x3[1,1,3] = 100 #modifying elements\n",
    "\n",
    "x3[1, ::-1,::-1] #reverse array\n",
    "x3[1, :, 3]\n",
    "x3[1, 0] # row access\n",
    "\n"
   ]
  },
  {
   "cell_type": "code",
   "execution_count": 53,
   "metadata": {},
   "outputs": [
    {
     "name": "stdout",
     "output_type": "stream",
     "text": [
      "[6 9 2 9 3]\n",
      "[  6 100   2   9   3]\n"
     ]
    },
    {
     "data": {
      "text/plain": [
       "array([[[  4,   1,   6,   3,   4],\n",
       "        [  3,   1,   4,   2,   3],\n",
       "        [  4,   9,   4,   0,   6]],\n",
       "\n",
       "       [[  6, 100,   2,   9,   3],\n",
       "        [  0,   8,   8,   9,   7],\n",
       "        [  4,   8,   6,   8,   0]],\n",
       "\n",
       "       [[  5,   3,   4,   0,   2],\n",
       "        [  2,   1,   1,   7,   1],\n",
       "        [  7,   2,   6,   3,   6]]])"
      ]
     },
     "execution_count": 53,
     "metadata": {},
     "output_type": "execute_result"
    }
   ],
   "source": [
    "# array slices return views rather than copies of array data\n",
    "x3 = np.random.randint(10, size=(3,3,5))\n",
    "x3_sub = x3[1, 0]\n",
    "print(x3_sub)\n",
    "x3_sub[1] = 100\n",
    "x3\n",
    "#copy array instead of view\n",
    "x3_sub_copy = x3[1, 0].copy()\n",
    "print(x3_sub)\n",
    "x3_sub_copy[1] = 100\n",
    "x3"
   ]
  },
  {
   "cell_type": "code",
   "execution_count": 60,
   "metadata": {},
   "outputs": [
    {
     "name": "stdout",
     "output_type": "stream",
     "text": [
      "[[1 2 3]\n",
      " [4 5 6]\n",
      " [7 8 9]]\n",
      "[[1]\n",
      " [2]\n",
      " [3]\n",
      " [4]\n",
      " [5]\n",
      " [6]\n",
      " [7]\n",
      " [8]\n",
      " [9]]\n"
     ]
    }
   ],
   "source": [
    "#reshaping\n",
    "grid = np.arange(1,10).reshape((3,3))\n",
    "print(grid)\n",
    "grid = grid.reshape((9,1))\n",
    "print(grid)"
   ]
  },
  {
   "cell_type": "code",
   "execution_count": null,
   "metadata": {},
   "outputs": [],
   "source": []
  }
 ],
 "metadata": {
  "kernelspec": {
   "display_name": "Python 3.9.7 ('base')",
   "language": "python",
   "name": "python3"
  },
  "language_info": {
   "codemirror_mode": {
    "name": "ipython",
    "version": 3
   },
   "file_extension": ".py",
   "mimetype": "text/x-python",
   "name": "python",
   "nbconvert_exporter": "python",
   "pygments_lexer": "ipython3",
   "version": "3.9.7"
  },
  "orig_nbformat": 4,
  "vscode": {
   "interpreter": {
    "hash": "d61e47c8223b665d51366bc9b85e43b5bd620aff7d2574bdcc54c0fbd80dda92"
   }
  }
 },
 "nbformat": 4,
 "nbformat_minor": 2
}
